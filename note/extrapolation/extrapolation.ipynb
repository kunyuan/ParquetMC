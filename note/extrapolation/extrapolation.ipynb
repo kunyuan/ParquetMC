{
 "cells": [
  {
   "cell_type": "code",
   "execution_count": 1,
   "metadata": {},
   "outputs": [],
   "source": [
    "import grid"
   ]
  },
  {
   "cell_type": "code",
   "execution_count": 2,
   "metadata": {},
   "outputs": [],
   "source": [
    "beta=10\n",
    "kF, EF=1.0, 1.0\n",
    "TauSize=32\n",
    "tauGrid=grid.tauGrid(beta, EF, TauSize)"
   ]
  },
  {
   "cell_type": "code",
   "execution_count": 3,
   "metadata": {},
   "outputs": [
    {
     "output_type": "execute_result",
     "data": {
      "text/plain": "array([1.00000000e-08, 1.36352506e-01, 2.87674526e-01, 4.55609496e-01,\n       6.41981274e-01, 8.48813954e-01, 1.07835384e+00, 1.33309386e+00,\n       1.61580061e+00, 1.92954444e+00, 2.27773276e+00, 2.66414708e+00,\n       3.09298405e+00, 3.56890106e+00, 4.09706681e+00, 4.68321744e+00,\n       5.31678256e+00, 5.90293319e+00, 6.43109894e+00, 6.90701595e+00,\n       7.33585292e+00, 7.72226724e+00, 8.07045556e+00, 8.38419939e+00,\n       8.66690614e+00, 8.92164616e+00, 9.15118605e+00, 9.35801873e+00,\n       9.54439050e+00, 9.71232547e+00, 9.86364749e+00, 9.99999999e+00])"
     },
     "metadata": {},
     "execution_count": 3
    }
   ],
   "source": [
    "tauGrid"
   ]
  },
  {
   "cell_type": "code",
   "execution_count": null,
   "metadata": {},
   "outputs": [],
   "source": []
  }
 ],
 "metadata": {
  "kernelspec": {
   "display_name": "Python 3",
   "language": "python",
   "name": "python3"
  },
  "language_info": {
   "codemirror_mode": {
    "name": "ipython",
    "version": 2
   },
   "file_extension": ".py",
   "mimetype": "text/x-python",
   "name": "python",
   "nbconvert_exporter": "python",
   "pygments_lexer": "ipython2",
   "version": "3.6.9-final"
  }
 },
 "nbformat": 4,
 "nbformat_minor": 2
}