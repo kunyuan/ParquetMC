{
 "cells": [
  {
   "cell_type": "code",
   "execution_count": 1,
   "metadata": {},
   "outputs": [
    {
     "data": {
      "text/plain": [
       "Main.Grid"
      ]
     },
     "execution_count": 1,
     "metadata": {},
     "output_type": "execute_result"
    }
   ],
   "source": [
    "include(\"grid.jl\")"
   ]
  },
  {
   "cell_type": "code",
   "execution_count": 5,
   "metadata": {},
   "outputs": [
    {
     "data": {
      "text/plain": [
       "128-element Array{Float64,1}:\n",
       " 1.0e-8\n",
       " 0.03121595416503209\n",
       " 0.06325550112358647\n",
       " 0.09614037031202582\n",
       " 0.1298928644699382\n",
       " 0.16453587476600529\n",
       " 0.20009289632294558\n",
       " 0.2365880441520667\n",
       " 0.2740460695082263\n",
       " 0.3124923766763019\n",
       " 0.35195304020054596\n",
       " 0.3924548225685178\n",
       " 0.43402519236158343\n",
       " ⋮\n",
       " 9.619945189404884\n",
       " 9.659167276487116\n",
       " 9.697381139941541\n",
       " 9.734612696667522\n",
       " 9.770887197357386\n",
       " 9.806229243621617\n",
       " 9.840662804673833\n",
       " 9.874211233586864\n",
       " 9.906897283130972\n",
       " 9.93874312120492\n",
       " 9.969770345870405\n",
       " 9.99999999"
      ]
     },
     "execution_count": 5,
     "metadata": {},
     "output_type": "execute_result"
    }
   ],
   "source": [
    "β=10\n",
    "TauGridSize=128\n",
    "tGrid=Grid.tauGrid(β, 1.0, TauGridSize).grid"
   ]
  },
  {
   "cell_type": "code",
   "execution_count": 4,
   "metadata": {},
   "outputs": [
    {
     "data": {
      "text/plain": [
       "Main.Grid.LogGrid(128, [1.0e-8, 0.03121595416503209, 0.06325550112358647, 0.09614037031202582, 0.1298928644699382, 0.16453587476600529, 0.20009289632294558, 0.2365880441520667, 0.2740460695082263, 0.3124923766763019  …  9.697381139941541, 9.734612696667522, 9.770887197357386, 9.806229243621617, 9.840662804673833, 9.874211233586864, 9.906897283130972, 9.93874312120492, 9.969770345870405, 9.99999999], [65, 128], Main.Grid.Coeff[Main.Grid.Coeff([0.0, 5.0], [1.0, 64.5], 0.026041666666666668, -1.1831524050451365, 1.1831524050451365), Main.Grid.Coeff([10.0, 5.0], [128.0, 63.5], -0.026041666666666668, 11.14576949331812, -1.1457694933181215)])"
      ]
     },
     "execution_count": 4,
     "metadata": {},
     "output_type": "execute_result"
    }
   ],
   "source": [
    "tGrid"
   ]
  },
  {
   "cell_type": "code",
   "execution_count": null,
   "metadata": {},
   "outputs": [],
   "source": []
  }
 ],
 "metadata": {
  "kernelspec": {
   "display_name": "Julia 1.4.1",
   "language": "julia",
   "name": "julia-1.4"
  },
  "language_info": {
   "file_extension": ".jl",
   "mimetype": "application/julia",
   "name": "julia",
   "version": "1.4.1"
  }
 },
 "nbformat": 4,
 "nbformat_minor": 2
}
