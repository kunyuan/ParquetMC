{
 "cells": [
  {
   "cell_type": "code",
   "execution_count": 24,
   "metadata": {},
   "outputs": [],
   "source": [
    "import utility.spectral as spectral\n",
    "import numpy as np\n",
    "import numpy.linalg as linalg\n",
    "import matplotlib.pyplot as plt"
   ]
  },
  {
   "cell_type": "code",
   "execution_count": 25,
   "metadata": {},
   "outputs": [],
   "source": [
    "Beta=20\n",
    "Nt=1024\n",
    "TauGrid=np.linspace(1.0e-6, Beta-1.0e-6, Nt)"
   ]
  },
  {
   "cell_type": "code",
   "execution_count": 28,
   "metadata": {},
   "outputs": [],
   "source": [
    "MaxFreq=200.0\n",
    "Nw=2048\n",
    "FreqGrid=np.linspace(-MaxFreq, MaxFreq, Nw)"
   ]
  },
  {
   "cell_type": "code",
   "execution_count": 29,
   "metadata": {},
   "outputs": [],
   "source": [
    "TauKer=spectral.TauKernel(Beta, TauGrid, FreqGrid, \"Fermi\")\n",
    "ut, st, vt=linalg.svd(TauKer)"
   ]
  },
  {
   "cell_type": "code",
   "execution_count": 31,
   "metadata": {},
   "outputs": [
    {
     "data": {
      "text/plain": [
       "array([1.06464585e+00, 1.06079917e+00, 7.05647317e-01, 6.21554261e-01,\n",
       "       4.35239071e-01, 3.48500771e-01, 2.41567175e-01, 1.86070849e-01,\n",
       "       1.27318919e-01, 9.65189472e-02, 6.49710233e-02, 4.88355434e-02,\n",
       "       3.23513574e-02, 2.41659153e-02, 1.57797158e-02, 1.17223888e-02,\n",
       "       7.55728532e-03, 5.58470307e-03, 3.55966631e-03, 2.61709549e-03,\n",
       "       1.65110911e-03, 1.20784532e-03, 7.54924030e-04, 5.49559636e-04,\n",
       "       3.40529045e-04, 2.46714994e-04, 1.51647384e-04, 1.09360856e-04,\n",
       "       6.67127404e-05, 4.78936255e-05, 2.90071314e-05, 2.07334401e-05,\n",
       "       1.24716626e-05, 8.87651919e-06, 5.30452163e-06, 3.75983020e-06,\n",
       "       2.23269926e-06, 1.57617788e-06, 9.30294083e-07, 6.54176341e-07,\n",
       "       3.83836818e-07, 2.68883757e-07, 1.56865699e-07, 1.09478877e-07,\n",
       "       6.35144975e-08, 4.41670122e-08, 2.54847836e-08, 1.76589479e-08,\n",
       "       1.01354764e-08, 6.99874762e-09, 3.99620334e-09, 2.75009334e-09,\n",
       "       1.56232049e-09, 1.07157622e-09, 6.05738697e-10, 4.14113024e-10,\n",
       "       2.32949481e-10, 1.58745633e-10, 8.88717249e-11, 6.03718497e-11,\n",
       "       3.36396373e-11, 2.27811480e-11, 1.26351538e-11, 8.53060232e-12])"
      ]
     },
     "execution_count": 31,
     "metadata": {},
     "output_type": "execute_result"
    }
   ],
   "source": [
    "st[0:64]"
   ]
  },
  {
   "cell_type": "code",
   "execution_count": 32,
   "metadata": {},
   "outputs": [],
   "source": [
    "Nwn=256\n",
    "WnGrid=(np.array(range(-Nwn, Nwn))+0.5)*2.0*np.pi/Beta"
   ]
  },
  {
   "cell_type": "code",
   "execution_count": 33,
   "metadata": {},
   "outputs": [],
   "source": [
    "WnKer=spectral.MatFreqKernel(Beta, WnGrid, FreqGrid, \"Fermi\")\n",
    "uw, sw, vw=linalg.svd(WnKer)"
   ]
  },
  {
   "cell_type": "code",
   "execution_count": 34,
   "metadata": {},
   "outputs": [
    {
     "data": {
      "text/plain": [
       "array([ 2.24348031,  2.26063107,  2.27477085,  2.05244728,  2.48782472,\n",
       "        2.04149482,  2.62625604,  2.06542189,  2.74293269,  2.11634688,\n",
       "        2.85926275,  2.18315196,  2.98247899,  2.26090234,  3.11528593,\n",
       "        2.34779229,  3.25902118,  2.44332432,  3.41465373,  2.54756579,\n",
       "        3.58310374,  2.66086345,  3.7653481 ,  2.78373209,  3.96246003,\n",
       "        2.91681008,  4.17562926,  3.06084208,  4.40617675,  3.21667409,\n",
       "        4.65556869,  3.38525497,  4.92543102,  3.56764176,  5.21756544,\n",
       "        3.76500762,  5.53396723,  3.97865204,  5.87684537,  4.21001299,\n",
       "        6.24864524,  4.46068096,  6.65207419,  4.73241514,  7.0901306 ,\n",
       "        5.02716169,  7.56613652,  5.34707445,  8.08377466,  5.69453828,\n",
       "        8.64713007,  6.0721954 ,  9.26073721,  6.48297507,  9.92963282,\n",
       "        6.93012725, 10.65941726,  7.41725964, 11.45631577,  7.94838437,\n",
       "       12.32727849,  8.52795321, 13.27999874,  9.16092654])"
      ]
     },
     "execution_count": 34,
     "metadata": {},
     "output_type": "execute_result"
    }
   ],
   "source": [
    "st[0:64]/sw[:64]"
   ]
  },
  {
   "cell_type": "code",
   "execution_count": 40,
   "metadata": {},
   "outputs": [
    {
     "data": {
      "image/png": "[encoded data removed]",
      "text/plain": [
       "<Figure size 432x288 with 1 Axes>"
      ]
     },
     "metadata": {
      "needs_background": "light"
     },
     "output_type": "display_data"
    }
   ],
   "source": [
    "fig=plt.figure()\n",
    "plt.plot(uw[:, 3].real, label=\"wn\")\n",
    "plt.plot(ut[:, 2].real, label=\"tau\")\n",
    "plt.legend()\n",
    "plt.show()"
   ]
  },
  {
   "cell_type": "code",
   "execution_count": 10,
   "metadata": {},
   "outputs": [
    {
     "data": {
      "text/plain": [
       "(512, 512)"
      ]
     },
     "execution_count": 10,
     "metadata": {},
     "output_type": "execute_result"
    }
   ],
   "source": [
    "tt=np.dot(TauKer, TauKer.T)\n",
    "tt.shape"
   ]
  },
  {
   "cell_type": "code",
   "execution_count": 11,
   "metadata": {},
   "outputs": [
    {
     "name": "stdout",
     "output_type": "stream",
     "text": [
      "[ 1.53985497e+00+0.j  1.51835772e+00+0.j  7.33318063e-01+0.j\n",
      "  6.57604145e-01+0.j  2.35049931e-01+0.j  1.96941850e-01+0.j\n",
      "  6.35351566e-02+0.j  5.12555341e-02+0.j  1.56199684e-02+0.j\n",
      "  1.23014549e-02+0.j  3.58013017e-03+0.j  2.77204732e-03+0.j\n",
      "  7.74594084e-04+0.j  5.92105448e-04+0.j  1.59440317e-04+0.j\n",
      "  1.20634117e-04+0.j  3.13903785e-05+0.j  2.35473983e-05+0.j\n",
      "  5.93418602e-06+0.j  4.41838905e-06+0.j  1.08039181e-06+0.j\n",
      "  7.99041222e-07+0.j  1.89878980e-07+0.j  1.39566903e-07+0.j\n",
      "  3.22759778e-08+0.j  2.35870953e-08+0.j  5.31475418e-09+0.j\n",
      "  3.86278518e-09+0.j  8.48944734e-10+0.j  6.13798874e-10+0.j\n",
      "  1.31698076e-10+0.j  9.47424391e-11+0.j  1.98623662e-11+0.j\n",
      "  1.42197221e-11+0.j  2.91494298e-12+0.j  2.07707283e-12+0.j\n",
      "  4.16601070e-13+0.j  2.95504506e-13+0.j  5.80302092e-14+0.j\n",
      "  4.09753614e-14+0.j  7.88007027e-15+0.j  5.54156629e-15+0.j\n",
      "  1.04941367e-15+0.j  7.35168094e-16+0.j  1.39729331e-16+0.j\n",
      "  1.05395627e-16+0.j -6.85532055e-17+0.j  6.64054850e-17+0.j]\n"
     ]
    },
    {
     "name": "stderr",
     "output_type": "stream",
     "text": [
      "/home/kun/.local/lib/python3.6/site-packages/ipykernel_launcher.py:3: RuntimeWarning: invalid value encountered in sqrt\n",
      "  This is separate from the ipykernel package so we can avoid doing imports until\n"
     ]
    },
    {
     "data": {
      "text/plain": [
       "array([1.        , 1.        , 1.        , 1.        , 1.        ,\n",
       "       1.        , 1.        , 1.        , 1.        , 1.        ,\n",
       "       1.        , 1.        , 1.        , 1.        , 1.        ,\n",
       "       1.        , 1.        , 1.        , 1.        , 1.        ,\n",
       "       1.        , 1.        , 1.        , 1.        , 1.        ,\n",
       "       1.        , 1.        , 1.        , 1.00000001, 1.00000001,\n",
       "       1.00000004, 1.00000004, 1.0000001 , 1.00000033, 1.00000002,\n",
       "       1.00000027, 0.99998857, 0.99999046, 1.00000563, 0.99995139,\n",
       "       0.99983439, 0.99990928, 1.00216844, 1.0024423 , 1.01651345,\n",
       "       1.05724775,        nan, 2.36503226])"
      ]
     },
     "execution_count": 11,
     "metadata": {},
     "output_type": "execute_result"
    }
   ],
   "source": [
    "e=linalg.eigvals(tt)\n",
    "print(e[0:48])\n",
    "np.sqrt(e[0:48].real)/st[0:48]"
   ]
  },
  {
   "cell_type": "code",
   "execution_count": 12,
   "metadata": {},
   "outputs": [],
   "source": [
    "v=linalg.eig(tt)[1]"
   ]
  },
  {
   "cell_type": "code",
   "execution_count": 13,
   "metadata": {},
   "outputs": [
    {
     "data": {
      "text/plain": [
       "(1024, 1024)"
      ]
     },
     "execution_count": 13,
     "metadata": {},
     "output_type": "execute_result"
    }
   ],
   "source": [
    "ww=np.dot(TauKer.T, TauKer)\n",
    "ww.shape"
   ]
  },
  {
   "cell_type": "code",
   "execution_count": 14,
   "metadata": {},
   "outputs": [],
   "source": [
    "u=linalg.eig(ww)[1]"
   ]
  },
  {
   "cell_type": "code",
   "execution_count": 15,
   "metadata": {},
   "outputs": [],
   "source": [
    "s=np.dot(np.dot(v, TauKer), u.T)"
   ]
  },
  {
   "cell_type": "code",
   "execution_count": 16,
   "metadata": {},
   "outputs": [
    {
     "data": {
      "text/plain": [
       "array([ 1.51157999e-04,  2.82569148e-05,  1.04936431e-04,  4.05842349e-04,\n",
       "        2.97926339e-04,  8.64218691e-05,  7.18718865e-05, -7.93023346e-05,\n",
       "        1.52879944e-04,  4.48768126e-05, -1.65333468e-04,  1.24558549e-04,\n",
       "       -6.37505239e-06, -5.17286488e-04, -7.91340122e-05,  9.74794288e-04,\n",
       "       -3.16444074e-04,  9.54194776e-04,  3.17538250e-05,  1.55316989e-04,\n",
       "       -4.40937531e-05,  7.32581157e-05, -1.46157197e-04,  2.92124842e-04,\n",
       "       -7.52037284e-05, -3.72899687e-05, -8.17542883e-05, -3.74345651e-05,\n",
       "       -2.13706919e-04,  8.93124717e-05,  3.11182328e-05,  9.64243155e-05,\n",
       "        2.06318734e-04, -2.18827697e-04,  3.55426149e-04,  3.55402196e-04,\n",
       "       -3.69888089e-04,  2.94569651e-04, -2.20183380e-04,  1.90089197e-04,\n",
       "       -9.63160418e-05,  1.06042547e-03,  3.55807302e-04,  3.06546514e-04,\n",
       "       -7.35013296e-04,  4.48257670e-04, -9.90564662e-04, -2.06256509e-04,\n",
       "       -2.30977636e-04,  2.84313652e-04, -2.66524960e-04, -1.40260043e-03,\n",
       "        1.22349381e-04,  6.88260234e-04,  1.87972521e-04,  1.41457903e-04,\n",
       "        5.63748298e-05,  3.84535020e-04,  2.93529080e-04,  6.50780592e-04,\n",
       "        8.28171212e-04, -2.54889361e-04, -4.78723902e-04,  2.62923242e-05,\n",
       "       -1.03604783e-03, -3.78070169e-06,  6.56568350e-04,  1.20398975e-04,\n",
       "       -8.78769590e-04, -1.65818547e-03,  3.70786953e-05, -7.63813395e-04,\n",
       "        1.76828182e-04, -1.29181514e-03,  2.08675203e-04, -1.18518583e-04,\n",
       "        7.55909688e-04,  3.37304499e-04,  7.31367029e-04,  1.84302550e-03,\n",
       "       -9.74979424e-04, -1.20374327e-03,  2.76749809e-04, -2.78126701e-04,\n",
       "       -1.60037371e-04,  7.59559351e-04,  4.43225371e-05, -1.26514706e-04,\n",
       "        3.10033440e-04, -7.61296163e-04, -3.85947658e-04, -7.35523480e-04,\n",
       "       -9.98747806e-05, -1.15189570e-03, -3.07852490e-04,  1.32219517e-03,\n",
       "       -5.20526920e-04,  8.24728875e-05, -5.30191005e-05,  3.66577168e-04,\n",
       "       -2.72235983e-04, -1.46479719e-04,  1.24076571e-03, -3.23796629e-05,\n",
       "       -3.35308139e-04, -3.40107752e-04, -1.46817763e-04,  9.87194293e-05,\n",
       "        1.46210584e-04,  3.68580338e-04, -5.39774662e-04,  1.48502294e-04,\n",
       "       -3.10239615e-04,  1.15434344e-03, -4.13971140e-04, -9.03239727e-05,\n",
       "       -4.03109488e-04,  2.70175856e-04,  1.39485573e-04, -5.18851858e-05,\n",
       "       -1.57134873e-04, -1.51225719e-04,  4.21873678e-05, -9.42210753e-05,\n",
       "       -2.62600034e-04,  1.12214163e-04,  3.15177809e-04, -3.21431224e-04,\n",
       "        3.81329800e-05,  2.56286903e-05, -6.44131998e-04,  5.19191342e-04,\n",
       "       -2.99795214e-04, -5.08475333e-04,  2.58942409e-04, -3.11948722e-05,\n",
       "        2.40529829e-04,  4.81786788e-06, -4.69315040e-04, -1.40070935e-05,\n",
       "        1.33905178e-06,  2.15752912e-04,  2.04637896e-04,  4.44436041e-04,\n",
       "        2.21783618e-04,  4.07279330e-04, -9.50220357e-05,  1.48954334e-03,\n",
       "        3.92434819e-04,  5.75375026e-04, -1.79417456e-04, -4.01010089e-05,\n",
       "       -1.91769835e-04,  3.91598560e-04, -9.80913137e-05, -1.69995447e-04,\n",
       "       -4.30912776e-04,  1.21759564e-03,  2.59388314e-04, -1.06834403e-03,\n",
       "        1.85461027e-05, -6.01898522e-04, -4.63635143e-04, -5.70012725e-04,\n",
       "        2.73040108e-04,  1.17290603e-04,  6.48896117e-04, -2.88870785e-04,\n",
       "       -5.34128334e-04, -1.68890067e-04,  5.00526352e-04,  6.84154312e-05,\n",
       "       -6.24156349e-05,  2.43557296e-05,  1.19995039e-04, -2.17100865e-04,\n",
       "        5.74007682e-05, -1.81597009e-04, -2.93088351e-04,  1.87116373e-04,\n",
       "        2.76811719e-04, -4.72928080e-05, -3.86511207e-04, -1.74857843e-04,\n",
       "       -2.00309549e-04,  5.83345316e-05,  4.73320999e-04,  4.61808408e-05,\n",
       "       -1.21011780e-04,  5.79660947e-04, -9.93984893e-04, -6.22219967e-05,\n",
       "       -3.08216857e-04, -5.73489977e-04,  5.57346922e-04,  1.42541204e-03,\n",
       "       -5.79857978e-04, -2.32280666e-05,  5.54927614e-04, -1.22703143e-04,\n",
       "       -5.08963827e-04,  1.52670065e-04,  8.80376985e-05,  3.69645665e-04,\n",
       "       -1.11686928e-03, -6.79840209e-04, -6.80940816e-04,  2.29777187e-04,\n",
       "       -3.19260925e-04, -2.08904483e-03,  4.24020066e-05,  5.88358002e-04,\n",
       "       -5.56292980e-04, -3.70205177e-04, -4.02062258e-05,  9.01206507e-04,\n",
       "       -1.04266653e-03,  4.22272680e-05,  1.39668038e-03,  6.89894542e-04,\n",
       "        8.45372852e-04, -4.03611537e-04, -5.93956747e-04,  2.41860711e-04,\n",
       "       -2.74675995e-04,  8.25777701e-05,  1.62598140e-04, -2.86623335e-04,\n",
       "       -8.38919310e-05, -1.60895422e-04, -1.58788856e-03,  7.33213594e-04,\n",
       "        7.92640871e-04, -8.62842297e-04,  3.18706707e-04,  2.54076188e-04,\n",
       "       -4.69625680e-04, -2.82837503e-04, -1.70993136e-03, -1.11349619e-03,\n",
       "       -1.25059815e-04,  6.42669840e-04, -3.49353809e-03,  4.88448947e-03,\n",
       "       -1.01247397e-03, -1.14079528e-04, -1.39420033e-04, -2.20098423e-04,\n",
       "       -1.29462743e-04, -1.28691873e-03, -2.29878424e-03, -2.42952018e-04,\n",
       "       -8.23294929e-04,  5.99382960e-05, -3.13126707e-04,  7.81826998e-05,\n",
       "       -1.94394948e-04, -7.82375187e-05, -3.65801113e-05, -1.81772909e-03,\n",
       "       -3.98646974e-04, -4.64876478e-04,  9.86425053e-04, -1.46020435e-03,\n",
       "        1.05215050e-03,  1.27320116e-03,  2.41747457e-04, -4.99444819e-03,\n",
       "        1.02899005e-04, -1.17518311e-03, -9.61683550e-04, -1.49268615e-03,\n",
       "        9.66896552e-04,  3.11397931e-03, -8.64862770e-04,  2.21382352e-03,\n",
       "       -2.76261592e-03, -5.44111912e-05,  1.23834572e-03, -2.06420451e-04,\n",
       "        4.16235545e-04,  5.58947678e-04, -1.71568743e-03, -5.97310080e-04,\n",
       "        3.79601928e-04, -3.34683317e-03,  3.43567609e-03, -7.48590510e-04,\n",
       "        1.65266209e-03,  3.55397663e-03,  4.45826690e-03, -4.97312558e-04,\n",
       "       -3.82498292e-03, -1.35234327e-03, -7.54522602e-04, -1.86101193e-03,\n",
       "        1.90506826e-03, -3.45606015e-04, -2.74235232e-04, -8.20746933e-04,\n",
       "       -1.17162497e-03, -2.37156073e-03,  5.46016278e-04, -1.28010294e-04,\n",
       "       -1.98274980e-03,  5.47690688e-04,  2.78368493e-03, -2.26306424e-03,\n",
       "       -6.75995804e-04, -2.17026277e-03, -1.12604065e-03,  3.70847042e-04,\n",
       "        4.55225927e-03, -4.79238556e-04,  6.47016952e-03,  5.20189609e-03,\n",
       "        1.92552867e-03, -2.18861911e-04,  5.33085127e-04,  1.03352188e-03,\n",
       "        4.60927592e-04,  1.39886195e-03,  9.01566097e-04,  1.83498754e-03,\n",
       "       -2.75677233e-03, -5.10786079e-04,  3.00271676e-05,  2.00153413e-03,\n",
       "        4.25857798e-03, -1.26887051e-03, -5.71693325e-03,  4.44786820e-03,\n",
       "        2.82021454e-04,  1.33023385e-03, -3.42402859e-04, -5.25610501e-04,\n",
       "       -6.19885832e-04, -2.57272662e-04, -2.66343591e-03, -9.39052305e-04,\n",
       "       -1.05113451e-03,  5.80955786e-03,  3.96901216e-03, -5.67655791e-03,\n",
       "        1.51327146e-04, -2.35097850e-03, -2.56144628e-03,  2.43641043e-03,\n",
       "        6.43353558e-03,  3.94736820e-04,  5.28700298e-03,  3.39031870e-03,\n",
       "       -1.39700630e-03,  2.74474794e-03, -8.09116435e-04,  6.56574983e-03,\n",
       "        1.11648005e-03,  6.85548980e-04, -5.02658261e-03,  4.41440079e-04,\n",
       "       -3.05700690e-03, -3.67170593e-03, -4.33991312e-04, -1.62144275e-04,\n",
       "       -2.78135600e-04,  4.10136280e-04, -7.94423511e-04,  1.30638291e-04,\n",
       "       -1.94792379e-03,  6.27632265e-04,  5.50428779e-04,  1.43646944e-03,\n",
       "       -1.54134457e-03, -1.64666266e-03,  1.38320692e-03,  1.16693630e-03,\n",
       "        4.90343979e-05, -1.12291548e-05,  8.42205402e-03, -1.82356283e-03,\n",
       "        9.67652256e-04, -1.42170356e-04, -3.42069920e-04, -4.32528581e-04,\n",
       "       -1.71553484e-03,  2.69819401e-04, -3.31429974e-04,  3.38870703e-03,\n",
       "       -7.74105956e-04, -1.03650592e-03,  4.39301995e-04,  4.16132869e-03,\n",
       "       -3.51482337e-03,  2.96995635e-06,  2.07848123e-03, -2.19429718e-03,\n",
       "       -7.39479699e-04, -4.46542591e-04,  7.57994836e-04, -3.94725075e-03,\n",
       "       -1.01828999e-03, -1.46157270e-03, -1.83130587e-03,  2.61848181e-03,\n",
       "        1.52192106e-03, -1.25484224e-03,  2.68331928e-05, -8.11821465e-04,\n",
       "        7.52140948e-03,  1.67337695e-03,  4.29937117e-04,  4.03138869e-03,\n",
       "        7.37958958e-04,  4.98490425e-03, -2.76356446e-03,  2.71017118e-03,\n",
       "        1.03568542e-03, -8.34435531e-04, -3.98282930e-03,  2.70712737e-03,\n",
       "       -8.75595356e-05,  2.09541415e-03, -1.41945747e-03,  2.02234315e-03,\n",
       "       -1.75055937e-03, -3.23979729e-03, -3.52932198e-04,  2.32998920e-03,\n",
       "       -7.69697712e-05, -3.67434595e-03,  3.47533783e-03, -2.26472810e-04,\n",
       "        8.07098623e-04, -5.91013862e-03,  4.75123889e-04, -2.69794203e-03,\n",
       "        1.60819511e-04,  9.24812348e-04, -2.88980690e-03,  2.24932926e-03,\n",
       "       -4.80354233e-04, -1.31652789e-03,  2.16726302e-05, -3.99670877e-03,\n",
       "       -5.03819055e-04, -6.13977299e-04,  3.11486119e-03,  5.10373542e-03,\n",
       "        8.84824436e-05, -6.24725593e-04, -1.55501316e-03,  2.00497966e-03,\n",
       "        1.91241391e-03,  2.15055394e-03,  8.19120041e-04,  2.90882379e-03,\n",
       "       -1.01451689e-03,  2.61297693e-03, -3.57406371e-03,  3.88930187e-04,\n",
       "       -1.17665545e-03, -4.42152421e-03, -3.22780975e-06,  4.61326732e-03,\n",
       "       -1.59701989e-03, -2.50844675e-03, -7.08901196e-04,  2.18190619e-03,\n",
       "       -4.32639385e-04, -1.45391442e-03, -5.88552047e-06,  1.22851270e-03,\n",
       "       -3.47982700e-05,  2.36940770e-03,  1.45548340e-03,  1.92720762e-03,\n",
       "       -1.39378640e-04,  7.94980758e-04, -1.68519155e-03, -1.60305036e-04,\n",
       "        2.37178370e-03, -1.35745655e-03, -1.52008591e-03,  1.10350933e-03,\n",
       "       -1.06516698e-03,  4.89964126e-03, -3.26757249e-03,  2.94265499e-04,\n",
       "        5.46802253e-03, -2.93984603e-04, -4.19279690e-03, -1.43932372e-03,\n",
       "       -1.11296692e-03, -5.70022787e-03, -4.02729245e-05,  3.40214657e-03,\n",
       "       -1.40235377e-03,  6.74223257e-03, -3.33338106e-03, -9.14305292e-04,\n",
       "        8.18249758e-04,  3.92088354e-03, -4.45604461e-03,  5.04922029e-04,\n",
       "       -1.58672206e-04, -2.48123082e-03,  6.99315638e-03, -3.34131152e-03,\n",
       "        1.66134591e-03, -1.36538434e-03, -1.15741089e-02,  1.15134927e-03])"
      ]
     },
     "execution_count": 16,
     "metadata": {},
     "output_type": "execute_result"
    }
   ],
   "source": [
    "np.diag(s.real)"
   ]
  },
  {
   "cell_type": "code",
   "execution_count": 17,
   "metadata": {},
   "outputs": [],
   "source": [
    "u,s,v=linalg.svd(tt)"
   ]
  },
  {
   "cell_type": "code",
   "execution_count": 18,
   "metadata": {},
   "outputs": [
    {
     "data": {
      "text/plain": [
       "array([1.24090893e+00, 1.23221659e+00, 8.56339923e-01, 8.10927953e-01,\n",
       "       4.84819482e-01, 4.43781309e-01, 2.52061811e-01, 2.26396851e-01,\n",
       "       1.24979872e-01, 1.10911924e-01, 5.98341890e-02, 5.26502357e-02,\n",
       "       2.78315304e-02, 2.43332170e-02, 1.26269679e-02, 1.09833564e-02,\n",
       "       5.60271171e-03, 4.85256616e-03, 2.43601848e-03, 2.10199644e-03,\n",
       "       1.03941898e-03, 8.93891057e-04, 4.35751052e-04, 3.73586541e-04,\n",
       "       1.79655164e-04, 1.53580908e-04, 7.29023605e-05, 6.21513087e-05,\n",
       "       2.91366560e-05, 2.47749645e-05, 1.14759778e-05, 9.73357235e-06,\n",
       "       4.45672100e-06, 3.77090345e-06, 1.70732038e-06, 1.44120494e-06,\n",
       "       6.45453786e-07, 5.43608450e-07, 2.40893246e-07, 2.02433558e-07,\n",
       "       8.87844637e-08, 7.44484513e-08, 3.23245612e-08, 2.70479243e-08,\n",
       "       1.16286865e-08, 9.71034200e-09, 4.13466339e-09, 3.44560039e-09])"
      ]
     },
     "execution_count": 18,
     "metadata": {},
     "output_type": "execute_result"
    }
   ],
   "source": [
    "np.sqrt(s[0:48])/st[0:48]\n",
    "st[0:48]"
   ]
  },
  {
   "cell_type": "code",
   "execution_count": 19,
   "metadata": {},
   "outputs": [],
   "source": []
  },
  {
   "cell_type": "code",
   "execution_count": 61,
   "metadata": {},
   "outputs": [],
   "source": [
    "import scipy.integrate as integrate\n",
    "\n",
    "def kernal(x, t1, t2):\n",
    "    return np.exp(-(t1+t2)*x)/(1.0+np.exp(-Beta*x))**2\n",
    "\n",
    "Ntt=512\n",
    "TauGrid=np.linspace(1.0e-8, Beta-1.0e-8, Ntt)\n",
    "TT=np.zeros((Ntt, Ntt))\n",
    "for i in range(Ntt):\n",
    "    for j in range(Ntt):\n",
    "        t1=TauGrid[i]\n",
    "        t2=TauGrid[j]\n",
    "        TT[i, j]=1.0/(t1+t2)\n",
    "        "
   ]
  },
  {
   "cell_type": "code",
   "execution_count": 62,
   "metadata": {},
   "outputs": [],
   "source": [
    "u, s, v=linalg.svd(TT)"
   ]
  },
  {
   "cell_type": "code",
   "execution_count": 63,
   "metadata": {},
   "outputs": [
    {
     "data": {
      "text/plain": [
       "array([7.07106781e+03, 7.42397546e+00, 4.69101086e+00, 2.65475428e+00,\n",
       "       1.44313686e+00, 7.66775101e-01, 4.00117028e-01, 2.05507542e-01,\n",
       "       1.04048085e-01, 5.19877559e-02, 2.56584374e-02, 1.25186135e-02,\n",
       "       6.04175951e-03, 2.88600215e-03, 1.36511488e-03, 6.39688831e-04,\n",
       "       2.97072115e-04, 1.36973964e-04, 7.06824137e-05, 7.06824137e-05,\n",
       "       7.06824137e-05, 7.06824137e-05, 7.06824137e-05, 7.06824137e-05,\n",
       "       7.06824137e-05, 7.06824137e-05, 7.06824137e-05, 7.06824137e-05,\n",
       "       7.06824137e-05, 7.06824137e-05, 7.06824137e-05, 7.06824137e-05])"
      ]
     },
     "execution_count": 63,
     "metadata": {},
     "output_type": "execute_result"
    }
   ],
   "source": [
    "np.sqrt(s[:32].real)"
   ]
  },
  {
   "cell_type": "code",
   "execution_count": 45,
   "metadata": {},
   "outputs": [],
   "source": [
    "Nwn=128\n",
    "WnGrid=(np.array(range(-Nwn, Nwn))+0.5)*2.0*np.pi/Beta\n",
    "WW=np.zeros((2*Nwn, 2*Nwn))\n",
    "for i, wn1 in enumerate(WnGrid):\n",
    "    for j, wn2 in enumerate(WnGrid):\n",
    "        if abs(wn1+wn2)<1.0e-10:\n",
    "            WW[i, j]=0.0\n",
    "        else:\n",
    "            WW[i, j]=2.0*np.pi/(wn1+wn2)"
   ]
  },
  {
   "cell_type": "code",
   "execution_count": 46,
   "metadata": {},
   "outputs": [],
   "source": [
    "e, u=linalg.eig(WW)"
   ]
  },
  {
   "cell_type": "code",
   "execution_count": 47,
   "metadata": {},
   "outputs": [
    {
     "data": {
      "text/plain": [
       "array([-62.06564892, -61.55254167, -61.05562285, -60.56450505,\n",
       "       -60.07611382, -59.58918085, -59.10308514, -58.61748859,\n",
       "       -58.1321933 , -57.64707736, -57.16206276, -56.67709823,\n",
       "       -56.19214936, -55.70719279,  62.06564892,  61.55254167,\n",
       "        61.05562285,  60.56450505,  60.07611382,  59.58918085,\n",
       "        59.10308514,  58.61748859,  58.1321933 ,  57.64707736,\n",
       "        57.16206276,  56.67709823,  56.19214936,  55.70719279,\n",
       "        55.22221254,  54.73719772,  54.25214092, -55.22221254,\n",
       "       -54.73719772, -54.25214092, -53.76703725,  53.76703725,\n",
       "        53.28188359, -53.28188359, -52.79667808,  52.79667808,\n",
       "        52.3114198 , -52.3114198 , -51.8261085 ,  51.8261085 ,\n",
       "        51.34074441, -51.34074441, -50.85532811, -50.36986045,\n",
       "        50.85532811,  50.36986045, -49.88434242, -49.39877517,\n",
       "        49.88434242,  49.39877517, -48.91315991, -48.42749791,\n",
       "        48.91315991,  48.42749791, -47.94179045, -47.45603883,\n",
       "        47.94179045,  47.45603883,  46.97024435,  46.48440828])"
      ]
     },
     "execution_count": 47,
     "metadata": {},
     "output_type": "execute_result"
    }
   ],
   "source": [
    "e[:64]\n"
   ]
  },
  {
   "cell_type": "code",
   "execution_count": null,
   "metadata": {},
   "outputs": [],
   "source": []
  }
 ],
 "metadata": {
  "kernelspec": {
   "display_name": "Python 3.6.9 64-bit",
   "language": "python",
   "name": "python36964bit795db20f401c46e7b1223182d297261e"
  },
  "language_info": {
   "codemirror_mode": {
    "name": "ipython",
    "version": 3
   },
   "file_extension": ".py",
   "mimetype": "text/x-python",
   "name": "python",
   "nbconvert_exporter": "python",
   "pygments_lexer": "ipython3",
   "version": "3.6.9"
  }
 },
 "nbformat": 4,
 "nbformat_minor": 4
}
